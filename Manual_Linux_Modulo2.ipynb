{
 "cells": [
  {
   "cell_type": "markdown",
   "metadata": {},
   "source": [
    "# MÓDULO 2"
   ]
  },
  {
   "cell_type": "markdown",
   "metadata": {},
   "source": [
    "<p style=\"text-align : justify\" FONT FACE=\"calibri\">Las ediciones en la terminal de linux son rapidas y muy eficientes, de hecho muchos de estos comandos pueden editar textos mas grandes de los que estamos acostumbrados a usar o que incluso podemos abrir en nuestros editores comunes (Word, Excel), la eficiencia de estos programas radica en la poca capacidad de memoria y procesamiento en las computadoras de los 60's y 70`s, los que esten interesados pueden revisar el siguiente video de youtube, de Brian kernigan : <a href=\"https://www.youtube.com/watch?v=NTfOnGZUZDk\">Where GREP came from?</a></p>"
   ]
  },
  {
   "cell_type": "markdown",
   "metadata": {},
   "source": [
    "![](https://external-content.duckduckgo.com/iu/?u=https%3A%2F%2Ftse1.mm.bing.net%2Fth%3Fid%3DOIP.abwLHDGNTSA7HivU8XfqsQHaEK%26pid%3DApi&f=1)"
   ]
  },
  {
   "cell_type": "markdown",
   "metadata": {},
   "source": [
    "## 2.1 Comando de edición `grep` o `fgrep`"
   ]
  },
  {
   "cell_type": "markdown",
   "metadata": {},
   "source": [
    "Si desean practicas con mas ejemplos de archivos CSV, vayan a la siguiente pagina <a href=\"https://www.sample-videos.com/download-sample-csv.php\">Sample-vd</a>"
   ]
  },
  {
   "cell_type": "code",
   "execution_count": 8,
   "metadata": {},
   "outputs": [
    {
     "name": "stdout",
     "output_type": "stream",
     "text": [
      "N;Accesorio;Responsable;Inventario;Tendencia;ventas mes;ventas pm;;Tipo;Frecuencia\n",
      "1;Eldon Base for stackable storage shelf;Muhammed MacIntyre;3;-213.25;38.94;35;Nunavut;Storage & Organization;0.8\n",
      "2;\"1.7 Cubic Foot Compact \"\"Cube\"\" Office Refrigerators\";Barry French;293;457.81;208.16;68.02;Nunavut;Appliances;0.58\n",
      "3;Cardinal Slant-D� Ring Binder - Heavy Gauge Vinyl;Barry French;293;46.71;8.69;2.99;Nunavut;Binders and Binder Accessories;0.39\n",
      "4;R380;Clay Rozendal;483;1198.97;195.99;3.99;Nunavut;Telephones and Communication;0.58\n",
      "5;Holmes HEPA Air Purifier;Carlos Soltero;515;30.94;21.78;5.94;Nunavut;Appliances;0.5\n",
      "6;G.E. Longer-Life Indoor Recessed Floodlight Bulbs;Carlos Soltero;515;4.43;6.64;4.95;Nunavut;Office Furnishings;0.37\n",
      "7;Angle-D Binders with Locking Rings - Label Holders;Carl Jackson;613;-54.04;7.3;7.72;Nunavut;Binders and Binder Accessories;0.38\n",
      "8;SAFCO Mobile Desk Side File - Wire Frame;Carl Jackson;613;127.7;42.76;6.22;Nunavut;Storage & Organization;\n",
      "9;SAFCO Commercial Wire Shelving -Black;Monica Federle;643;-695.26;138.14;35;Nunavut;Storage & Organization;\n"
     ]
    }
   ],
   "source": [
    "head SampleCSVFile_119kb.csv"
   ]
  },
  {
   "cell_type": "code",
   "execution_count": 9,
   "metadata": {},
   "outputs": [
    {
     "name": "stdout",
     "output_type": "stream",
     "text": [
      "903;Euro Pro Shark Stick Mini Vacuum;\u001b[01;31m\u001b[KAlex Avila\u001b[m\u001b[K;1856;-712.14;60.98;49;British Columbia;Appliances;0.59\n",
      "904;M3682;\u001b[01;31m\u001b[KAlex Avila\u001b[m\u001b[K;1856;973.16;125.99;8.08;British Columbia;Telephones and Communication;0.57\n",
      "905;StarTAC 6500;\u001b[01;31m\u001b[KAlex Avila\u001b[m\u001b[K;1856;676.13;125.99;8.8;British Columbia;Telephones and Communication;0.59\n",
      "952;Accessory27;\u001b[01;31m\u001b[KAlex Avila\u001b[m\u001b[K;27174;-245.56;35.99;5;British Columbia;Telephones and Communication;0.85\n",
      "954;Verbatim DVD-R 4.7GB authoring disc;\u001b[01;31m\u001b[KAlex Avila\u001b[m\u001b[K;28582;423.87;39.24;1.99;British Columbia;Computer Peripherals;0.51\n",
      "955;TOPS Money Receipt Book;\u001b[01;31m\u001b[KAlex Avila\u001b[m\u001b[K;28582;87.96;8.01;2.87;British Columbia;Paper;0.4\n",
      "961;Adams Phone Message Book;\u001b[01;31m\u001b[KAlex Avila\u001b[m\u001b[K;30883;59.84;6.98;1.6;British Columbia;Paper;0.38\n",
      "964;R636;\u001b[01;31m\u001b[KAlex Avila\u001b[m\u001b[K;33632;-277.78;115.99;5.26;British Columbia;Telephones and Communication;0.57\n",
      "976;\"Executive Impressions 12\"\" Wall Clock\";\u001b[01;31m\u001b[KAlex Avila\u001b[m\u001b[K;37063;89.6;17.67;8.99;British Columbia;Office Furnishings;0.47\n",
      "991;Office Star - Mid Back Dual function Ergonomic High Back Chair with 2-Way Adjustable Arms;\u001b[01;31m\u001b[KAlex Avila\u001b[m\u001b[K;44231;116.1;160.98;30;British Columbia;Chairs & Chairmats;0.62\n",
      "992;Belkin 107-key enhanced keyboard;\u001b[01;31m\u001b[KAlex Avila\u001b[m\u001b[K;44231;-87.96;17.98;4;British Columbia;Computer Peripherals;0.79\n",
      "993;R5185;\u001b[01;31m\u001b[KAlex Avila\u001b[m\u001b[K;44231;311.64;115.99;8.99;British Columbia;Telephones and Communication;0.58\n"
     ]
    }
   ],
   "source": [
    "## ahora buscamos con grep un patron dentro de este documento\n",
    "\n",
    "grep -i \"Alex Avila\" SampleCSVFile_119kb.csv "
   ]
  },
  {
   "cell_type": "code",
   "execution_count": 10,
   "metadata": {},
   "outputs": [
    {
     "name": "stdout",
     "output_type": "stream",
     "text": [
      "12\n"
     ]
    }
   ],
   "source": [
    "## podemos contar cuantas veces aparace por linea\n",
    "\n",
    "grep -i \"Alex Avila\" SampleCSVFile_119kb.csv | wc -l"
   ]
  },
  {
   "cell_type": "code",
   "execution_count": 11,
   "metadata": {},
   "outputs": [
    {
     "name": "stdout",
     "output_type": "stream",
     "text": [
      "832\n"
     ]
    }
   ],
   "source": [
    "## en general podemos buscar cualquiera patron\n",
    "\n",
    "grep -vi \"Office Machines\" SampleCSVFile_119kb.csv | wc -l"
   ]
  },
  {
   "cell_type": "code",
   "execution_count": 12,
   "metadata": {},
   "outputs": [
    {
     "name": "stdout",
     "output_type": "stream",
     "text": [
      "904;M3682;\u001b[01;31m\u001b[KAlex Avila\u001b[m\u001b[K;1856;973.16;125.99;8.08;British Columbia;Telephones and Communication;0.57\n",
      "905;StarTAC 6500;\u001b[01;31m\u001b[KAlex Avila\u001b[m\u001b[K;1856;676.13;125.99;8.8;British Columbia;Telephones and Communication;0.59\n",
      "952;Accessory27;\u001b[01;31m\u001b[KAlex Avila\u001b[m\u001b[K;27174;-245.56;35.99;5;British Columbia;Telephones and Communication;0.85\n",
      "964;R636;\u001b[01;31m\u001b[KAlex Avila\u001b[m\u001b[K;33632;-277.78;115.99;5.26;British Columbia;Telephones and Communication;0.57\n",
      "993;R5185;\u001b[01;31m\u001b[KAlex Avila\u001b[m\u001b[K;44231;311.64;115.99;8.99;British Columbia;Telephones and Communication;0.58\n"
     ]
    }
   ],
   "source": [
    "## Ahora podemos ver por ejemplo una intersección\n",
    "\n",
    "grep \"Telephones and Communication\" SampleCSVFile_119kb.csv | grep \"Alex Avila\""
   ]
  },
  {
   "cell_type": "code",
   "execution_count": 13,
   "metadata": {},
   "outputs": [
    {
     "name": "stdout",
     "output_type": "stream",
     "text": [
      "904;M3682;\u001b[01;31m\u001b[KAlex Avila\u001b[m\u001b[K;1856;973.16;125.99;8.08;British Columbia;Telephones and Communication;0.57\n",
      "905;StarTAC 6500;\u001b[01;31m\u001b[KAlex Avila\u001b[m\u001b[K;1856;676.13;125.99;8.8;British Columbia;Telephones and Communication;0.59\n",
      "952;Accessory27;\u001b[01;31m\u001b[KAlex Avila\u001b[m\u001b[K;27174;-245.56;35.99;5;British Columbia;Telephones and Communication;0.85\n",
      "964;R636;\u001b[01;31m\u001b[KAlex Avila\u001b[m\u001b[K;33632;-277.78;115.99;5.26;British Columbia;Telephones and Communication;0.57\n",
      "993;R5185;\u001b[01;31m\u001b[KAlex Avila\u001b[m\u001b[K;44231;311.64;115.99;8.99;British Columbia;Telephones and Communication;0.58\n"
     ]
    }
   ],
   "source": [
    "## Incluso las busqueda no tienes que poner la palabra exacta.\n",
    "\n",
    "grep \"Telephones\" SampleCSVFile_119kb.csv | grep \"Alex Avila\""
   ]
  },
  {
   "cell_type": "code",
   "execution_count": 14,
   "metadata": {},
   "outputs": [
    {
     "name": "stdout",
     "output_type": "stream",
     "text": [
      "904;M3682;\u001b[01;31m\u001b[KAle\u001b[m\u001b[Kx Avila;1856;973.16;125.99;8.08;British Columbia;Telephones and Communication;0.57\n",
      "905;StarTAC 6500;\u001b[01;31m\u001b[KAle\u001b[m\u001b[Kx Avila;1856;676.13;125.99;8.8;British Columbia;Telephones and Communication;0.59\n",
      "952;Accessory27;\u001b[01;31m\u001b[KAle\u001b[m\u001b[Kx Avila;27174;-245.56;35.99;5;British Columbia;Telephones and Communication;0.85\n",
      "964;R636;\u001b[01;31m\u001b[KAle\u001b[m\u001b[Kx Avila;33632;-277.78;115.99;5.26;British Columbia;Telephones and Communication;0.57\n",
      "993;R5185;\u001b[01;31m\u001b[KAle\u001b[m\u001b[Kx Avila;44231;311.64;115.99;8.99;British Columbia;Telephones and Communication;0.58\n"
     ]
    }
   ],
   "source": [
    "grep \"Telepho\" SampleCSVFile_119kb.csv | grep \"Ale\""
   ]
  },
  {
   "cell_type": "markdown",
   "metadata": {},
   "source": [
    "## 2.2 Comando de edición  `cut` `sort`"
   ]
  },
  {
   "cell_type": "code",
   "execution_count": 40,
   "metadata": {},
   "outputs": [
    {
     "name": "stdout",
     "output_type": "stream",
     "text": [
      "Responsable\n",
      "Muhammed MacIntyre\n",
      "Barry French\n",
      "Barry French\n",
      "Clay Rozendal\n",
      "cut: write error: Broken pipe\n"
     ]
    }
   ],
   "source": [
    "# podemos limitar la busqueda a una columna\n",
    "\n",
    "cut -d \";\" -f 3 SampleCSVFile_119kb.csv | head -n 5"
   ]
  },
  {
   "cell_type": "code",
   "execution_count": 79,
   "metadata": {},
   "outputs": [
    {
     "name": "stdout",
     "output_type": "stream",
     "text": [
      "      1 \n",
      "     50 Appliances\n",
      "    120 Binders and Binder Accessories\n",
      "     26 Bookcases\n",
      "     61 Chairs & Chairmats\n",
      "     90 Computer Peripherals\n",
      "     14 Copiers and Fax\n",
      "     29 Envelopes\n",
      "     39 Labels\n",
      "    100 Office Furnishings\n",
      "     35 Office Machines\n",
      "    129 Paper\n",
      "     62 Pens & Art Supplies\n",
      "     19 Rubber Bands\n",
      "     21 Scissors, Rulers and Trimmers\n",
      "     68 Storage & Organization\n",
      "     32 Tables\n",
      "    104 Telephones and Communication\n"
     ]
    }
   ],
   "source": [
    "cut -d \";\" -f 9 SampleCSVFile_119kb.csv | sort | uniq -c"
   ]
  },
  {
   "cell_type": "code",
   "execution_count": 62,
   "metadata": {},
   "outputs": [
    {
     "name": "stdout",
     "output_type": "stream",
     "text": [
      "Jim Sink;59750\n",
      "Brendan Dodson;59651\n",
      "Brendan Dodson;59651\n",
      "Edward Hooks;59585\n",
      "Joy Smith;59584\n",
      "Joy Smith;59584\n",
      "Henry Goldwyn;59558\n",
      "Giulietta Baptist;59425\n",
      "Giulietta Baptist;59425\n",
      "Cari Schnelling;59395\n",
      "cut: write error: Broken pipe\n"
     ]
    }
   ],
   "source": [
    "sort -t \";\" -k4,4rn SampleCSVFile_119kb.csv | cut -d \";\" -f 3,4 | head "
   ]
  },
  {
   "cell_type": "markdown",
   "metadata": {},
   "source": [
    "## 2.3 Comando de edicion `sed`"
   ]
  },
  {
   "cell_type": "code",
   "execution_count": 66,
   "metadata": {},
   "outputs": [
    {
     "name": "stdout",
     "output_type": "stream",
     "text": [
      "      2 Carl Jackson\t613\n",
      "      2 Carlos Soltero\t515\n",
      "      1 Clay Rozendal\t483\n",
      "      2 Matt Collins\t450\n",
      "      1 Sanjit Chand\t294\n",
      "      2 Barry French\t293\n",
      "      1 Sonia Sunley\t261\n",
      "      2 Julie Creighton\t35\n",
      "      1 Muhammed MacIntyre\t3\n",
      "      1 \t\n"
     ]
    }
   ],
   "source": [
    "## si queremos editar mas aun podemos usar el comando sed\n",
    "\n",
    "sort -t \";\" -k4,4rn SampleCSVFile_119kb.csv | cut -d \";\" -f 3,4 | sed -e \"s/;/\\t/g\" | uniq -c | tail"
   ]
  },
  {
   "cell_type": "code",
   "execution_count": 71,
   "metadata": {},
   "outputs": [
    {
     "name": "stdout",
     "output_type": "stream",
     "text": [
      "1\tEldon Base for stackable storage shelf\tMuhammed MacIntyre\t3\t-213.25\t38.94\t35\tNunavut\tStorage & Organization\t0.8\n",
      "2\t\"1.7 Cubic Foot Compact \"\"Cube\"\" Office Refrigerators\"\tBarry French\t293\t457.81\t208.16\t68.02\tNunavut\tAppliances\t0.58\n",
      "3\tCardinal Slant-D� Ring Binder - Heavy Gauge Vinyl\tBarry French\t293\t46.71\t8.69\t2.99\tNunavut\tBinders and Binder Accessories\t0.39\n",
      "4\tR380\tClay Rozendal\t483\t1198.97\t195.99\t3.99\tNunavut\tTelephones and Communication\t0.58\n",
      "5\tHolmes HEPA Air Purifier\tCarlos Soltero\t515\t30.94\t21.78\t5.94\tNunavut\tAppliances\t0.5\n",
      "6\tG.E. Longer-Life Indoor Recessed Floodlight Bulbs\tCarlos Soltero\t515\t4.43\t6.64\t4.95\tNunavut\tOffice Furnishings\t0.37\n",
      "7\tAngle-D Binders with Locking Rings - Label Holders\tCarl Jackson\t613\t-54.04\t7.3\t7.72\tNunavut\tBinders and Binder Accessories\t0.38\n",
      "8\tSAFCO Mobile Desk Side File - Wire Frame\tCarl Jackson\t613\t127.7\t42.76\t6.22\tNunavut\tStorage & Organization\t\n",
      "9\tSAFCO Commercial Wire Shelving -Black\tMonica Federle\t643\t-695.26\t138.14\t35\tNunavut\tStorage & Organization\t\n",
      "10\tXerox 198\tDorothy Badders\t678\t-226.36\t4.98\t8.33\tNunavut\tPaper\t0.38\n",
      "sed: couldn't write 129 items to stdout: Broken pipe\n"
     ]
    }
   ],
   "source": [
    "## podemos modificar el texto completo tambien\n",
    "## por ejemplo podemos cambiar la separacion de columnas de \";\" por \"tab\"\n",
    "\n",
    "sed -e \"s/;/\\t/g\" SampleCSVFile_119kb.csv | head"
   ]
  },
  {
   "cell_type": "code",
   "execution_count": 72,
   "metadata": {},
   "outputs": [
    {
     "name": "stdout",
     "output_type": "stream",
     "text": [
      "991;Office Star - Mid Back Dual function Ergonomic High Back Chair with 2-Way Adjustable Arms;Alex Avila;44231;116.1;160.98;30;British Columbia;Chairs & Chairmats;0.62\n",
      "992;Belkin 107-key enhanced keyboard;Alex Avila;44231;-87.96;17.98;4;British Columbia;Computer Peripherals;0.79\n",
      "993;R5185;Alex Avila;44231;311.64;115.99;8.99;British Columbia;Telephones and Communication;0.58\n",
      "994;Hon Every-Day� Chair Series Swivel Task Chairs;Sonia Sunley;45573;-151.46;120.98;30;British Columbia;Chairs & Chairmats;0.64\n",
      "995;Avery 494;Lisa DeCherney;45763;24.28;2.61;0.5;British Columbia;Labels;0.39\n",
      "996;Xerox 1905;Dennis Bolton;48165;-147.27;6.48;9.54;British Columbia;Paper;0.37\n",
      "997;Dana Halogen Swing-Arm Architect Lamp;Anthony O'Donnell;48197;154.74;40.97;14.45;British Columbia;Office Furnishings;0.57\n",
      "998;Maxell DVD-RAM Discs;Barbara Fisher;48484;67.96;16.48;1.99;British Columbia;Computer Peripherals;0.42\n",
      "999;DAX Contemporary Wood Frame with Silver Metal Mat - Desktop - 11 x 14 Size;Barbara Fisher;48484;133.83;20.24;6.67;British Columbia;Office Furnishings;0.49\n",
      "1000;Computer Printout Paper with Letter-Trim Perforations;Barbara Fisher;48484;153.8;18.97;9.03;British Columbia;Paper;0.37\n"
     ]
    }
   ],
   "source": [
    "## sin embargo esto cambia el archivo y no conserva el original\n",
    "\n",
    "sed -e \"s/\\t/;/g\" SampleCSVFile_119kb.csv | tail"
   ]
  },
  {
   "cell_type": "code",
   "execution_count": 75,
   "metadata": {},
   "outputs": [
    {
     "name": "stdout",
     "output_type": "stream",
     "text": [
      "1\tEldon Base for stackable storage shelf\tMuhammed MacIntyre\t3\t-213.25\t38.94\t35\tNunavut\tStorage & Organization\t0.8\n",
      "2\t\"1.7 Cubic Foot Compact \"\"Cube\"\" Office Refrigerators\"\tBarry French\t293\t457.81\t208.16\t68.02\tNunavut\tAppliances\t0.58\n",
      "3\tCardinal Slant-D� Ring Binder - Heavy Gauge Vinyl\tBarry French\t293\t46.71\t8.69\t2.99\tNunavut\tBinders and Binder Accessories\t0.39\n",
      "4\tR380\tClay Rozendal\t483\t1198.97\t195.99\t3.99\tNunavut\tTelephones and Communication\t0.58\n",
      "5\tHolmes HEPA Air Purifier\tCarlos Soltero\t515\t30.94\t21.78\t5.94\tNunavut\tAppliances\t0.5\n",
      "6\tG.E. Longer-Life Indoor Recessed Floodlight Bulbs\tCarlos Soltero\t515\t4.43\t6.64\t4.95\tNunavut\tOffice Furnishings\t0.37\n",
      "7\tAngle-D Binders with Locking Rings - Label Holders\tCarl Jackson\t613\t-54.04\t7.3\t7.72\tNunavut\tBinders and Binder Accessories\t0.38\n",
      "8\tSAFCO Mobile Desk Side File - Wire Frame\tCarl Jackson\t613\t127.7\t42.76\t6.22\tNunavut\tStorage & Organization\t\n",
      "9\tSAFCO Commercial Wire Shelving -Black\tMonica Federle\t643\t-695.26\t138.14\t35\tNunavut\tStorage & Organization\t\n",
      "10\tXerox 198\tDorothy Badders\t678\t-226.36\t4.98\t8.33\tNunavut\tPaper\t0.38\n"
     ]
    }
   ],
   "source": [
    "# para evitar elimar la informacion original podemos redirigir a otro archivo (> SampleTAB.csv)\n",
    "sed -e \"s/;/\\t/g\" SampleCSVFile_119kb.csv > SampleTAB.csv\n",
    "head SampleTAB.csv"
   ]
  },
  {
   "cell_type": "code",
   "execution_count": 83,
   "metadata": {},
   "outputs": [
    {
     "name": "stdout",
     "output_type": "stream",
     "text": [
      "\u001b[01;31m\u001b[KPablo Perez\u001b[m\u001b[K;Appliances\n",
      "\u001b[01;31m\u001b[KPablo Perez\u001b[m\u001b[K;Telephones and Communication\n",
      "\u001b[01;31m\u001b[KPablo Perez\u001b[m\u001b[K;Telephones and Communication\n",
      "\u001b[01;31m\u001b[KPablo Perez\u001b[m\u001b[K;Telephones and Communication\n",
      "\u001b[01;31m\u001b[KPablo Perez\u001b[m\u001b[K;Computer Peripherals\n",
      "\u001b[01;31m\u001b[KPablo Perez\u001b[m\u001b[K;Paper\n",
      "\u001b[01;31m\u001b[KPablo Perez\u001b[m\u001b[K;Paper\n",
      "\u001b[01;31m\u001b[KPablo Perez\u001b[m\u001b[K;Telephones and Communication\n",
      "\u001b[01;31m\u001b[KPablo Perez\u001b[m\u001b[K;Office Furnishings\n",
      "\u001b[01;31m\u001b[KPablo Perez\u001b[m\u001b[K;Chairs & Chairmats\n",
      "\u001b[01;31m\u001b[KPablo Perez\u001b[m\u001b[K;Computer Peripherals\n",
      "\u001b[01;31m\u001b[KPablo Perez\u001b[m\u001b[K;Telephones and Communication\n"
     ]
    }
   ],
   "source": [
    "## Si queremos cambiar dentro algun dato equivocado\n",
    "\n",
    "cut -d \";\" -f 3,9 SampleCSVFile_119kb.csv | sed -e \"s/Alex Avila/Pablo Perez/g\" | grep \"Pablo Perez\""
   ]
  },
  {
   "cell_type": "markdown",
   "metadata": {},
   "source": [
    "## 2.4 Comando para obervar y detener la ejecución de un programa"
   ]
  },
  {
   "cell_type": "markdown",
   "metadata": {},
   "source": [
    "Para observar los comandos podemos usar los siguientes comandos de menor a mayor detalle:"
   ]
  },
  {
   "cell_type": "markdown",
   "metadata": {},
   "source": [
    "`ps` Indican PID, Tiempo de ejecución, Lenguaje"
   ]
  },
  {
   "cell_type": "code",
   "execution_count": 86,
   "metadata": {},
   "outputs": [
    {
     "name": "stdout",
     "output_type": "stream",
     "text": [
      "  PID TTY          TIME CMD\n",
      "  172 pts/0    00:00:02 bash\n",
      "  513 pts/0    00:00:00 ps\n"
     ]
    }
   ],
   "source": [
    "ps"
   ]
  },
  {
   "cell_type": "markdown",
   "metadata": {},
   "source": [
    "`pstree` Es similar a `ps` pero con mas detalles de las ramificaciones de los comandos\n"
   ]
  },
  {
   "cell_type": "code",
   "execution_count": 89,
   "metadata": {},
   "outputs": [
    {
     "name": "stdout",
     "output_type": "stream",
     "text": [
      "init─┬─init───bash───jupyter-noteboo─┬─python3─┬─bash───pstree\n",
      "     │                               │         └─7*[{python3}]\n",
      "     │                               └─2*[{jupyter-noteboo}]\n",
      "     ├─init───bash\n",
      "     └─{init}\n"
     ]
    }
   ],
   "source": [
    "pstree"
   ]
  },
  {
   "cell_type": "markdown",
   "metadata": {},
   "source": [
    "`top` Lista todos los programas que se estan ejecuntando de todos los usuarios, ademas del gasta de memoria RAM"
   ]
  },
  {
   "cell_type": "markdown",
   "metadata": {},
   "source": [
    "![](https://external-content.duckduckgo.com/iu/?u=http%3A%2F%2Fwww.linuxnix.com%2Fwp-content%2Fuploads%2F2011%2F08%2Ftop_process.png&f=1&nofb=1)"
   ]
  },
  {
   "cell_type": "markdown",
   "metadata": {},
   "source": [
    "`htop` Comando similar a top, pero con mas detalles graficos"
   ]
  },
  {
   "cell_type": "markdown",
   "metadata": {},
   "source": [
    "![](https://external-content.duckduckgo.com/iu/?u=https%3A%2F%2Fwww.howtogeek.com%2Fthumbcache%2F2%2F200%2Fa96ccf158d4718d56ca8f4afbde4687c%2Fwp-content%2Fuploads%2F2007%2F07%2Fimage35.png&f=1&nofb=1)"
   ]
  },
  {
   "cell_type": "markdown",
   "metadata": {},
   "source": [
    "### Detener los programas"
   ]
  },
  {
   "cell_type": "markdown",
   "metadata": {},
   "source": [
    "Para determinar los programas se usa el comando `kill`, para poder ejecutar es necesario saber el PID\n",
    "Tambien se puede hacer a través de `top` o `htop`"
   ]
  },
  {
   "cell_type": "markdown",
   "metadata": {},
   "source": [
    "`kill PID`\n",
    "\n",
    "Para practicar veamos un ejmeplo:"
   ]
  },
  {
   "cell_type": "markdown",
   "metadata": {},
   "source": [
    "`-------> TEMINAL!`"
   ]
  }
 ],
 "metadata": {
  "kernelspec": {
   "display_name": "Bash",
   "language": "bash",
   "name": "bash"
  },
  "language_info": {
   "codemirror_mode": "shell",
   "file_extension": ".sh",
   "mimetype": "text/x-sh",
   "name": "bash"
  }
 },
 "nbformat": 4,
 "nbformat_minor": 4
}
